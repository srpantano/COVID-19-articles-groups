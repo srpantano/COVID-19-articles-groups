{
 "cells": [
  {
   "cell_type": "markdown",
   "metadata": {},
   "source": [
    "## Bibliotecas"
   ]
  },
  {
   "cell_type": "code",
   "execution_count": null,
   "metadata": {},
   "outputs": [],
   "source": [
    "import numpy as np\n",
    "import pandas as pd\n",
    "import glob\n",
    "import json\n",
    "import seaborn as sns\n",
    "import spacy\n",
    "from matplotlib import pyplot as plt"
   ]
  },
  {
   "cell_type": "markdown",
   "metadata": {},
   "source": [
    "## Funções"
   ]
  },
  {
   "cell_type": "code",
   "execution_count": null,
   "metadata": {},
   "outputs": [],
   "source": [
    "#Lê os arquivos e armazena no dataframe\n",
    "def load_json_to_df(json_files, df):\n",
    "    \n",
    "    for file_names in json_files:\n",
    "        \n",
    "        keywords ={'paper_id': None, 'title': None, 'abstract': None}\n",
    "        \n",
    "        with open(file_names) as json_data:            \n",
    "        \n",
    "            data = json.load(json_data)\n",
    "        \n",
    "            if 'paper_id' not in data: \n",
    "                keywords['paper_id'] = np.nan\n",
    "            else:\n",
    "                keywords['paper_id'] = data['paper_id'].strip() #Retira os espaço antes e depois \n",
    "        \n",
    "           #Armazena o Titulo\n",
    "            if 'metadata' not in data: \n",
    "                keywords['title'] = np.nan\n",
    "            else:\n",
    "                keywords['title'] = data['metadata']['title'].strip()\n",
    "        \n",
    "            #Armazena o Abstract\n",
    "            if 'abstract' not in data: \n",
    "                keywords['abstract'] = np.nan\n",
    "            else:\n",
    "                abstracts = [abstract['text'] for abstract in data['abstract']]\n",
    "                abstract = '\\n'.join(abstracts)\n",
    "                keywords['abstract'] = abstract.strip()\n",
    "            \n",
    "            df = df.append(keywords, ignore_index = True)\n",
    "        \n",
    "    return df"
   ]
  },
  {
   "cell_type": "code",
   "execution_count": null,
   "metadata": {},
   "outputs": [],
   "source": [
    "def normalize(sentence): \n",
    "    #Todo texto em minúsculo\n",
    "    sentence = sentence.lower()\n",
    "    list_ = []\n",
    "    for word in nlp(sentence):\n",
    "        \n",
    "        #Retirar stopword, numeral, pontuação, espaço duplo \n",
    "        if not (word.is_stop or word.like_num or word.is_punct or word.is_space or \n",
    "                len(word) == 1):\n",
    "            \n",
    "            #Realiza a lematização \n",
    "            list_.append(word.lemma_)\n",
    "    \n",
    "    return ' '.join([str(element) for element in list_])"
   ]
  },
  {
   "cell_type": "code",
   "execution_count": null,
   "metadata": {},
   "outputs": [],
   "source": [
    "#Atrinbutos a serem coletados\n",
    "papers_features = {'paper_id': [], 'title': [], 'abstract': []}\n",
    "\n",
    "#Trasforma o dicionário em Dataframe\n",
    "df = pd.DataFrame.from_dict(papers_features)\n",
    "\n",
    "#Lê todos os arquivos .json do diretorio\n",
    "json_filenames = glob.glob(f'{\"C:/Users/sergi/Documents/Cord-19/document_parses/pdf_json\"}//**/*.json', recursive = True)\n",
    "\n",
    "#Salva os artigos em Dataframe\n",
    "df = load_json_to_df(json_filenames, df)\n",
    "\n",
    "df.to_csv('C:/Users/sergi/Documents/Cord-19/cord_df_reduzido.csv', index=False, header=True)"
   ]
  },
  {
   "cell_type": "code",
   "execution_count": null,
   "metadata": {},
   "outputs": [],
   "source": [
    "#Remove os nulos e duplicados do 'abstract'\n",
    "df_cleared = df.dropna(subset=['abstract'])\n",
    "df_cleared = df_cleared[df_cleared['abstract'] != '']\n",
    "df_cleared = df_cleared.drop_duplicates(['abstract'])"
   ]
  },
  {
   "cell_type": "markdown",
   "metadata": {},
   "source": [
    "## Pré-processamento do texto "
   ]
  },
  {
   "cell_type": "code",
   "execution_count": null,
   "metadata": {},
   "outputs": [],
   "source": [
    "#tagger = Usada para pipeline completo\n",
    "#parser = Parsing de dependencias (como uma palavra está conectada a outra)\n",
    "#ner = Reconhecimento de entidades\n",
    "nlp = spacy.load('en_core_web_sm', disable=['tagger', 'parser', 'ner'])\n",
    "nlp.max_length = 200000 #performance\n",
    "df_cleared['abstract'].apply(normalize)"
   ]
  },
  {
   "cell_type": "markdown",
   "metadata": {},
   "source": [
    "## TOKENIZAÇÃO E PALAVRAS MAIS FREQUENTES"
   ]
  },
  {
   "cell_type": "code",
   "execution_count": null,
   "metadata": {},
   "outputs": [],
   "source": [
    "#Obtem a lista de textos\n",
    "abstracts = df_cleared['abstract'].tolist()\n",
    "\n",
    "#Cria um vocabulário de palavras, eleminado as palavras que aparecem em\n",
    "#mais de 85% dos documentos e os stop word em inglês\n",
    "#a principio retornou um vocabuário de 164.179 palavras, dificultando a clusterização.\n",
    "#Para reduzir foi utilizado o parametro max_features, reduzindo para 4096 palavras\n",
    "cv=CountVectorizer(max_df=0.70, max_features=2**12, stop_words = 'english')\n",
    "word_count_vector=cv.fit_transform(abstracts)\n",
    "\n",
    "#Lista das palavras mais frequentes\n",
    "more_freq = list(cv.vocabulary_.keys())[:20]"
   ]
  },
  {
   "cell_type": "markdown",
   "metadata": {},
   "source": [
    "## TF-IDF"
   ]
  },
  {
   "cell_type": "code",
   "execution_count": null,
   "metadata": {},
   "outputs": [],
   "source": [
    "from sklearn.feature_extraction.text import CountVectorizer\n",
    "from sklearn.feature_extraction.text import TfidfVectorizer\n",
    "\n",
    "#Ordena a matrix\n",
    "def sort_coo(coo_matrix):\n",
    "    tuples = zip(coo_matrix.col, coo_matrix.data)\n",
    "    return sorted(tuples, key=lambda x: (x[1], x[0]), reverse=True)\n",
    "\n",
    "#Extrai os mais relevantes\n",
    "def extract_topn_from_vector(feature_names, sorted_items, topn=10):\n",
    "    \n",
    "    sorted_items = sorted_items[:topn]\n",
    " \n",
    "    score_vals = []\n",
    "    feature_vals = []\n",
    "    \n",
    "    for idx, score in sorted_items:\n",
    "        \n",
    "        score_vals.append(round(score, 3))\n",
    "        feature_vals.append(feature_names[idx])\n",
    " \n",
    "    results= {}\n",
    "    for idx in range(len(feature_vals)):\n",
    "        results[feature_vals[idx]]=score_vals[idx]\n",
    "    \n",
    "    return results\n",
    "\n",
    "tfidf = TfidfVectorizer(max_df=0.85, max_features=2**12,  stop_words = 'english')\n",
    "vectorized = tfidf.fit_transform(abstracts)\n",
    "\n",
    "sorted_items=sort_coo(vectorized.tocoo())\n",
    "\n",
    "feature_names= tfidf.get_feature_names()\n",
    "keywords=extract_topn_from_vector(feature_names, sorted_items, 20)"
   ]
  },
  {
   "cell_type": "markdown",
   "metadata": {},
   "source": [
    "## K-Means"
   ]
  },
  {
   "cell_type": "code",
   "execution_count": null,
   "metadata": {},
   "outputs": [],
   "source": [
    "#Calcula o número ideal de clusters, baseado no método Elbow\n",
    "wcss = []\n",
    "for i in range(1, 20):\n",
    "    print(i)\n",
    "    #kmeans = KMeans(n_clusters=i, init='k-means++', max_iter=300, n_init=10)\n",
    "    kmeans = MiniBatchKMeans(init='k-means++', n_clusters=i, max_iter=300, n_init=10, \n",
    "                         random_state=6)\n",
    "    kmeans.fit(vectorized)\n",
    "    wcss.append(kmeans.inertia_) #inertia = soma dos quadrados das distâncias dos pontos para o centróide\n",
    "\n",
    "plt.plot(range(1, 20), wcss)\n",
    "plt.title('Elbow Method')\n",
    "plt.xlabel('Number of clusters')\n",
    "plt.ylabel('WCSS')\n",
    "plt.show()\n",
    "\n",
    "#Calcula o número ideal de clusters\n",
    "def optimal_number_of_clusters(wcss):\n",
    "    x1, y1 = 1, wcss[0]\n",
    "    x2, y2 = 20, wcss[len(wcss)-1]\n",
    "\n",
    "    distances = []\n",
    "    for i in range(len(wcss)):\n",
    "        x0 = i+2\n",
    "        y0 = wcss[i]\n",
    "        numerator = abs((y2-y1)*x0 - (x2-x1)*y0 + x2*y1 - y2*x1)\n",
    "        denominator = np.sqrt((y2 - y1)**2 + (x2 - x1)**2)\n",
    "        distances.append(numerator/denominator)\n",
    "    \n",
    "    return distances.index(max(distances)) + 2\n",
    "\n",
    "print(optimal_number_of_clusters(wcss))\n",
    "\n",
    "#Reduz para 2 dimensões para gerar o gráfico\n",
    "from sklearn.decomposition import PCA\n",
    "pca = PCA(n_components = 9)\n",
    "X_pca = pca.fit_transform(vectorized.toarray())"
   ]
  },
  {
   "cell_type": "markdown",
   "metadata": {},
   "source": [
    "### MiniBatchKMeans"
   ]
  },
  {
   "cell_type": "code",
   "execution_count": null,
   "metadata": {},
   "outputs": [],
   "source": [
    "from sklearn.cluster import MiniBatchKMeans\n",
    "kmeans = MiniBatchKMeans(init='k-means++', n_clusters=6, max_iter=300, n_init=10, \n",
    "                         random_state=6)\n",
    "\n",
    "y_pred = kmeans.fit_predict(vectorized)\n",
    "np.unique(y_pred)\n",
    "\n",
    "palette = sns.color_palette('bright', len(set(y_pred)))\n",
    "sns.scatterplot(X_pca[:,0], X_pca[:, 1], hue=y_pred, legend='full', palette=palette)\n",
    "plt.title('Clustered Covid-19 Papers');\n",
    "centers_on_pcs = pca.transform(kmeans.cluster_centers_)\n",
    "plt.scatter(x=centers_on_pcs[:,0], y=centers_on_pcs[:,1], s=100, c=\"k\", marker=\"X\")\n",
    "\n",
    "df_cleared['y'] = y_pred"
   ]
  }
 ],
 "metadata": {
  "kernelspec": {
   "display_name": "Python 3",
   "language": "python",
   "name": "python3"
  },
  "language_info": {
   "codemirror_mode": {
    "name": "ipython",
    "version": 3
   },
   "file_extension": ".py",
   "mimetype": "text/x-python",
   "name": "python",
   "nbconvert_exporter": "python",
   "pygments_lexer": "ipython3",
   "version": "3.8.3"
  }
 },
 "nbformat": 4,
 "nbformat_minor": 4
}
